{
 "cells": [
  {
   "cell_type": "markdown",
   "metadata": {},
   "source": [
    "# RepoCoder: Analyze and Modify Your Code Repository with LLMs\n",
    "\n",
    "This notebook demonstrates how to use RepoCoder to analyze and modify your code repository using Large Language Models (LLMs) such as Anthropic's Claude or Google's Gemini."
   ]
  },
  {
   "cell_type": "markdown",
   "metadata": {},
   "source": [
    "## Installation\n",
    "\n",
    "First, let's install RepoCoder and its dependencies:"
   ]
  },
  {
   "cell_type": "code",
   "execution_count": null,
   "metadata": {},
   "outputs": [],
   "source": [
    "!pip install repocoder"
   ]
  },
  {
   "cell_type": "markdown",
   "metadata": {},
   "source": [
    "## Setup\n",
    "\n",
    "Now, let's import the necessary functions and set up our environment variables for API keys:"
   ]
  },
  {
   "cell_type": "code",
   "execution_count": null,
   "metadata": {},
   "outputs": [],
   "source": [
    "from repocoder import send_for_review, print_options\n",
    "import os\n",
    "\n",
    "# Set your API keys here\n",
    "os.environ[\"ANTHROPIC_API_KEY\"] = \"your_anthropic_api_key\"\n",
    "os.environ[\"GEMINI_API_KEY\"] = \"your_gemini_api_key\""
   ]
  },
  {
   "cell_type": "markdown",
   "metadata": {},
   "source": [
    "## Available Options\n",
    "\n",
    "Let's see what options are available for code analysis:"
   ]
  },
  {
   "cell_type": "code",
   "execution_count": null,
   "metadata": {},
   "outputs": [],
   "source": [
    "print_options()"
   ]
  },
  {
   "cell_type": "markdown",
   "metadata": {},
   "source": [
    "## Analyze Your Code\n",
    "\n",
    "Now, let's use RepoCoder to analyze your code. You can choose from the following actions:\n",
    "- code-review\n",
    "- code-improvement\n",
    "- code-completion\n",
    "- code-correction\n",
    "- custom action\n",
    "\n",
    "You can also choose between Anthropic's Claude (\"anthropic\") or Google's Gemini (\"gemini\") as your LLM."
   ]
  },
  {
   "cell_type": "code",
   "execution_count": null,
   "metadata": {},
   "outputs": [],
   "source": [
    "action = \"code-review\"  # Change this to your desired action\n",
    "llm = \"anthropic\"  # Change this to \"gemini\" if you prefer to use Google's Gemini\n",
    "\n",
    "send_for_review(action, llm=llm)"
   ]
  },
  {
   "cell_type": "markdown",
   "metadata": {},
   "source": [
    "## Custom Actions\n",
    "\n",
    "You can also use custom actions by providing a specific instruction:"
   ]
  },
  {
   "cell_type": "code",
   "execution_count": null,
   "metadata": {},
   "outputs": [],
   "source": [
    "custom_action = \"Please suggest ways to improve the performance of the following code.\"\n",
    "send_for_review(custom_action, llm=\"anthropic\")"
   ]
  }
 ],
 "metadata": {
  "kernelspec": {
   "display_name": "Python 3",
   "language": "python",
   "name": "python3"
  },
  "language_info": {
   "codemirror_mode": {
    "name": "ipython",
    "version": 3
   },
   "file_extension": ".py",
   "mimetype": "text/x-python",
   "name": "python",
   "nbconvert_exporter": "python",
   "pygments_lexer": "ipython3",
   "version": "3.8.0"
  }
 },
 "nbformat": 4,
 "nbformat_minor": 4
}
