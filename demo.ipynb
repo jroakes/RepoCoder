{
 "cells": [
  {
   "cell_type": "markdown",
   "metadata": {},
   "source": [
    "## Repo Coder\n"
   ]
  },
  {
   "cell_type": "code",
   "execution_count": null,
   "metadata": {},
   "outputs": [],
   "source": [
    "!pip install repocoder"
   ]
  },
  {
   "cell_type": "code",
   "execution_count": null,
   "metadata": {},
   "outputs": [],
   "source": [
    "from repocoder import send_for_review, print_options\n",
    "\n",
    "print_options()\n",
    "\n",
    "action = \"\"\"Will you create a bash script install.sh to initialize and deploy this firebase API app?\n",
    "It should deploy the \n",
    "\"\"\"\n",
    "#action = \"code-correction\"\n",
    "\n",
    "send_for_review(action,\n",
    "                llm=\"anthropic\", \n",
    "                additional_exclude_files = ['demo.ipynb', 'response.md', 'all_code.txt',\n",
    "                                            '.gitignore'],\n",
    "                )"
   ]
  }
 ],
 "metadata": {
  "kernelspec": {
   "display_name": "repocoder_env",
   "language": "python",
   "name": "python3"
  },
  "language_info": {
   "codemirror_mode": {
    "name": "ipython",
    "version": 3
   },
   "file_extension": ".py",
   "mimetype": "text/x-python",
   "name": "python",
   "nbconvert_exporter": "python",
   "pygments_lexer": "ipython3",
   "version": "3.11.9"
  }
 },
 "nbformat": 4,
 "nbformat_minor": 2
}
