{
 "cells": [
  {
   "cell_type": "markdown",
   "metadata": {},
   "source": [
    "## Repo Coder\n"
   ]
  },
  {
   "cell_type": "code",
   "execution_count": null,
   "metadata": {},
   "outputs": [],
   "source": [
    "!pip install -U repocoder"
   ]
  },
  {
   "cell_type": "code",
   "execution_count": null,
   "metadata": {},
   "outputs": [],
   "source": [
    "from repocoder import send_for_review, print_options\n",
    "\n",
    "print_options()\n",
    "\n",
    "action = \"\"\"Does the inclusion of the chardet code cause additional time complexity in the code?\"\"\"\n",
    "#action = \"code-correction\"\n",
    "\n",
    "send_for_review(action,\n",
    "                llm=\"anthropic\", \n",
    "                additional_exclude_files = ['demo.ipynb', 'response.md', 'all_code.txt',\n",
    "                                            '.gitignore'],\n",
    "                )"
   ]
  },
  {
   "cell_type": "markdown",
   "metadata": {},
   "source": [
    "h"
   ]
  }
 ],
 "metadata": {
  "kernelspec": {
   "display_name": "repocoder_env",
   "language": "python",
   "name": "python3"
  },
  "language_info": {
   "codemirror_mode": {
    "name": "ipython",
    "version": 3
   },
   "file_extension": ".py",
   "mimetype": "text/x-python",
   "name": "python",
   "nbconvert_exporter": "python",
   "pygments_lexer": "ipython3",
   "version": "3.11.9"
  }
 },
 "nbformat": 4,
 "nbformat_minor": 2
}
